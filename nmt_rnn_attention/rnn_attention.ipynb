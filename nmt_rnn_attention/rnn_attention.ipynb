{
 "cells": [
  {
   "cell_type": "markdown",
   "metadata": {},
   "source": [
    "# Neural machine translation with RNN attention model\n",
    "\n",
    "In this example, we'll use PyTorch to implement GRU-based seq2seq encoder/decoder with Luong attention. We'll use this attention model for French->English neural machine translation.\n",
    "\n",
    "_This example is based on_ [https://github.com/pytorch/tutorials/blob/master/intermediate_source/seq2seq_translation_tutorial.py](https://github.com/pytorch/tutorials/blob/master/intermediate_source/seq2seq_translation_tutorial.py)"
   ]
  },
  {
   "cell_type": "markdown",
   "metadata": {},
   "source": [
    "Let's start with the imports and the configuration. The dataset processing is implemented in the `nmt_dataset` module:"
   ]
  },
  {
   "cell_type": "code",
   "execution_count": 1,
   "metadata": {},
   "outputs": [],
   "source": [
    "import random\n",
    "\n",
    "import torch\n",
    "from nmt_dataset import *\n",
    "\n",
    "DATASET_SIZE = 40000\n",
    "HIDDEN_SIZE = 128"
   ]
  },
  {
   "cell_type": "markdown",
   "metadata": {},
   "source": [
    "Next, we'll initialize the device (GPU if available, otherwise CPU):"
   ]
  },
  {
   "cell_type": "code",
   "execution_count": 2,
   "metadata": {},
   "outputs": [],
   "source": [
    "device = torch.device(\"cuda\" if torch.cuda.is_available() else \"cpu\")"
   ]
  },
  {
   "cell_type": "markdown",
   "metadata": {},
   "source": [
    "Then, we'll implement the `EncoderRNN`, which combines the GRU cell with word embedding layer:"
   ]
  },
  {
   "cell_type": "code",
   "execution_count": 3,
   "metadata": {},
   "outputs": [],
   "source": [
    "class EncoderRNN(torch.nn.Module):\n",
    "    \"\"\"The encoder\"\"\"\n",
    "\n",
    "    def __init__(self, input_size, hidden_size):\n",
    "        super(EncoderRNN, self).__init__()\n",
    "        self.input_size = input_size\n",
    "        self.hidden_size = hidden_size\n",
    "\n",
    "        # Embedding for the input words\n",
    "        self.embedding = torch.nn.Embedding(input_size, hidden_size)\n",
    "\n",
    "        # The actual rnn sell\n",
    "        self.rnn_cell = torch.nn.GRU(hidden_size, hidden_size)\n",
    "\n",
    "    def forward(self, input, hidden):\n",
    "        \"\"\"Single sequence encoder step\"\"\"\n",
    "\n",
    "        # Pass through the embedding\n",
    "        embedded = self.embedding(input).view(1, 1, -1)\n",
    "        output = embedded\n",
    "\n",
    "        # Pass through the RNN\n",
    "        output, hidden = self.rnn_cell(output, hidden)\n",
    "        return output, hidden\n",
    "\n",
    "    def init_hidden(self):\n",
    "        return torch.zeros(1, 1, self.hidden_size, device=device)"
   ]
  },
  {
   "cell_type": "markdown",
   "metadata": {},
   "source": [
    "Next, we'll implement the decoder, which includes the attention mechanism:"
   ]
  },
  {
   "cell_type": "code",
   "execution_count": 4,
   "metadata": {},
   "outputs": [],
   "source": [
    "class AttnDecoderRNN(torch.nn.Module):\n",
    "    \"\"\"RNN decoder with attention\"\"\"\n",
    "\n",
    "    def __init__(self, hidden_size, output_size, max_length=MAX_LENGTH, dropout=0.1):\n",
    "        super(AttnDecoderRNN, self).__init__()\n",
    "        self.hidden_size = hidden_size\n",
    "        self.output_size = output_size\n",
    "        self.max_length = max_length\n",
    "\n",
    "        # Embedding for the input word\n",
    "        self.embedding = torch.nn.Embedding(self.output_size, self.hidden_size)\n",
    "\n",
    "        self.dropout = torch.nn.Dropout(dropout)\n",
    "\n",
    "        # Attention portion\n",
    "        self.attn = torch.nn.Linear(in_features=self.hidden_size,\n",
    "                                    out_features=self.hidden_size)\n",
    "\n",
    "        self.w_c = torch.nn.Linear(in_features=self.hidden_size * 2,\n",
    "                                   out_features=self.hidden_size)\n",
    "\n",
    "        # RNN\n",
    "        self.rnn_cell = torch.nn.GRU(input_size=self.hidden_size,\n",
    "                                     hidden_size=self.hidden_size)\n",
    "\n",
    "        # Output word\n",
    "        self.w_y = torch.nn.Linear(in_features=self.hidden_size,\n",
    "                                   out_features=self.output_size)\n",
    "\n",
    "    def forward(self, input, hidden, encoder_outputs):\n",
    "        embedded = self.embedding(input).view(1, 1, -1)\n",
    "        embedded = self.dropout(embedded)\n",
    "\n",
    "        # Compute the hidden state at current step t\n",
    "        rnn_out, hidden = self.rnn_cell(embedded, hidden)\n",
    "\n",
    "        # Compute the alignment scores\n",
    "        alignment_scores = torch.mm(self.attn(hidden)[0], encoder_outputs.t())\n",
    "\n",
    "        # Compute the weights\n",
    "        attn_weights = torch.nn.functional.softmax(alignment_scores, dim=1)\n",
    "\n",
    "        # Multiplicative attention context vector c_t\n",
    "        c_t = torch.mm(attn_weights, encoder_outputs)\n",
    "\n",
    "        # Concatenate h_t and the context\n",
    "        hidden_s_t = torch.cat([hidden[0], c_t], dim=1)\n",
    "\n",
    "        # Compute the hidden context\n",
    "        hidden_s_t = torch.tanh(self.w_c(hidden_s_t))\n",
    "\n",
    "        # Compute the output\n",
    "        output = torch.nn.functional.log_softmax(self.w_y(hidden_s_t), dim=1)\n",
    "\n",
    "        return output, hidden, attn_weights\n",
    "\n",
    "    def init_hidden(self):\n",
    "        return torch.zeros(1, 1, self.hidden_size, device=device)"
   ]
  },
  {
   "cell_type": "markdown",
   "metadata": {},
   "source": [
    "We'll continue with the training procedure:"
   ]
  },
  {
   "cell_type": "code",
   "execution_count": 5,
   "metadata": {},
   "outputs": [],
   "source": [
    "def train(encoder, decoder, loss_function, encoder_optimizer, decoder_optimizer, data_loader, max_length=MAX_LENGTH):\n",
    "    print_loss_total = 0\n",
    "\n",
    "    # Iterate over the dataset\n",
    "    for i, (input_tensor, target_tensor) in enumerate(data_loader):\n",
    "        input_tensor = input_tensor.to(device).squeeze(0)\n",
    "        target_tensor = target_tensor.to(device).squeeze(0)\n",
    "\n",
    "        encoder_hidden = encoder.init_hidden()\n",
    "\n",
    "        encoder_optimizer.zero_grad()\n",
    "        decoder_optimizer.zero_grad()\n",
    "\n",
    "        input_length = input_tensor.size(0)\n",
    "        target_length = target_tensor.size(0)\n",
    "\n",
    "        encoder_outputs = torch.zeros(max_length, encoder.hidden_size, device=device)\n",
    "\n",
    "        loss = torch.Tensor([0]).squeeze().to(device)\n",
    "\n",
    "        with torch.set_grad_enabled(True):\n",
    "            # Pass the sequence through the encoder and store the hidden states at each step\n",
    "            for ei in range(input_length):\n",
    "                encoder_output, encoder_hidden = encoder(\n",
    "                    input_tensor[ei], encoder_hidden)\n",
    "                encoder_outputs[ei] = encoder_output[0, 0]\n",
    "\n",
    "            # Initiate decoder with the GO_token\n",
    "            decoder_input = torch.tensor([[GO_token]], device=device)\n",
    "\n",
    "            # Initiate the decoder with the last encoder hidden state\n",
    "            decoder_hidden = encoder_hidden\n",
    "\n",
    "            # Teacher forcing: Feed the target as the next input\n",
    "            for di in range(target_length):\n",
    "                decoder_output, decoder_hidden, decoder_attention = decoder(\n",
    "                    decoder_input, decoder_hidden, encoder_outputs)\n",
    "                loss += loss_function(decoder_output, target_tensor[di])\n",
    "                decoder_input = target_tensor[di]  # Teacher forcing\n",
    "\n",
    "            loss.backward()\n",
    "\n",
    "            encoder_optimizer.step()\n",
    "            decoder_optimizer.step()\n",
    "\n",
    "        print_loss_total += loss.item() / target_length\n",
    "\n",
    "        it = i + 1\n",
    "        if it % 1000 == 0:\n",
    "            print_loss_avg = print_loss_total / 1000\n",
    "            print_loss_total = 0\n",
    "            print('Iteration: %d %.1f%%; Loss: %.4f' % (it, 100 * it / len(data_loader.dataset), print_loss_avg))"
   ]
  },
  {
   "cell_type": "markdown",
   "metadata": {},
   "source": [
    "Next, let's implement the evaluation procedure:"
   ]
  },
  {
   "cell_type": "code",
   "execution_count": 6,
   "metadata": {},
   "outputs": [],
   "source": [
    "def evaluate(encoder, decoder, input_tensor, max_length=MAX_LENGTH):\n",
    "    with torch.no_grad():\n",
    "        input_length = input_tensor.size()[0]\n",
    "        encoder_hidden = encoder.init_hidden()\n",
    "        input_tensor.to(device)\n",
    "\n",
    "        encoder_outputs = torch.zeros(max_length, encoder.hidden_size, device=device)\n",
    "\n",
    "        for ei in range(input_length):\n",
    "            # Pass the sequence through the encoder and store the hidden states at each step\n",
    "            encoder_output, encoder_hidden = encoder(input_tensor[ei],\n",
    "                                                     encoder_hidden)\n",
    "            encoder_outputs[ei] += encoder_output[0, 0]\n",
    "\n",
    "        # Initiate the decoder with the last encoder hidden state\n",
    "        decoder_input = torch.tensor([[GO_token]], device=device)  # GO\n",
    "\n",
    "        # Initiate the decoder with the last encoder hidden state\n",
    "        decoder_hidden = encoder_hidden\n",
    "\n",
    "        decoded_words = []\n",
    "        decoder_attentions = torch.zeros(max_length, max_length)\n",
    "\n",
    "        # Generate the output sequence (opposite to teacher forcing)\n",
    "        for di in range(max_length):\n",
    "            decoder_output, decoder_hidden, decoder_attention = decoder(\n",
    "                decoder_input, decoder_hidden, encoder_outputs)\n",
    "            decoder_attentions[di] = decoder_attention.data\n",
    "\n",
    "            # Obtain the output word index with the highest probability\n",
    "            _, topi = decoder_output.data.topk(1)\n",
    "            if topi.item() != EOS_token:\n",
    "                decoded_words.append(dataset.output_lang.index2word[topi.item()])\n",
    "            else:\n",
    "                break\n",
    "\n",
    "            # Use the latest output word as the next input\n",
    "            decoder_input = topi.squeeze().detach()\n",
    "\n",
    "        return decoded_words, decoder_attentions[:di + 1]"
   ]
  },
  {
   "cell_type": "markdown",
   "metadata": {},
   "source": [
    "Next, we'll implement a helper function, which allows us to evaluate (translate) random sequence of the training dataset:"
   ]
  },
  {
   "cell_type": "code",
   "execution_count": 7,
   "metadata": {},
   "outputs": [],
   "source": [
    "def evaluate_randomly(encoder, decoder, n=10):\n",
    "    for i in range(n):\n",
    "        sample = random.randint(0, len(dataset.dataset) - 1)\n",
    "        pair = dataset.pairs[sample]\n",
    "        input_sequence = dataset[sample][0].to(device)\n",
    "\n",
    "        output_words, attentions = evaluate(encoder, decoder, input_sequence)\n",
    "\n",
    "        print('INPUT: %s; TARGET: %s; RESULT: %s' % (pair[0], pair[1], ' '.join(output_words)))"
   ]
  },
  {
   "cell_type": "markdown",
   "metadata": {},
   "source": [
    "We'll continue with two functions that allows us to see the attention scores over the input sequence:"
   ]
  },
  {
   "cell_type": "code",
   "execution_count": 8,
   "metadata": {},
   "outputs": [],
   "source": [
    "import matplotlib.pyplot as plt\n",
    "import matplotlib.ticker as ticker\n",
    "\n",
    "def plot_attention(input_sentence, output_words, attentions):\n",
    "    # Set up figure with colorbar\n",
    "    fig = plt.figure()\n",
    "    ax = fig.add_subplot(111)\n",
    "    cax = ax.matshow(attentions.numpy(), cmap='bone')\n",
    "    fig.colorbar(cax)\n",
    "\n",
    "    # Set up axes\n",
    "    ax.set_xticklabels([''] + input_sentence.split(' ') +\n",
    "                       ['<EOS>'], rotation=90)\n",
    "    ax.set_yticklabels([''] + output_words)\n",
    "\n",
    "    # Show label at every tick\n",
    "    ax.xaxis.set_major_locator(ticker.MultipleLocator(1))\n",
    "    ax.yaxis.set_major_locator(ticker.MultipleLocator(1))\n",
    "\n",
    "    plt.show()\n",
    "\n",
    "\n",
    "def evaluate_and_plot_attention(input_sentence, encoder, decoder):\n",
    "    input_tensor = dataset.sentence_to_sequence(input_sentence).to(device)\n",
    "\n",
    "    output_words, attentions = evaluate(encoder=encoder,\n",
    "                                        decoder=decoder,\n",
    "                                        input_tensor=input_tensor)\n",
    "\n",
    "    print('INPUT: %s; OUTPUT: %s' % (input_sentence, ' '.join(output_words)))\n",
    "    plot_attention(input_sentence, output_words, attentions)"
   ]
  },
  {
   "cell_type": "markdown",
   "metadata": {},
   "source": [
    "Next, we'll initialize the training dataset:"
   ]
  },
  {
   "cell_type": "code",
   "execution_count": 9,
   "metadata": {},
   "outputs": [],
   "source": [
    "dataset = NMTDataset('data/eng-fra.txt', DATASET_SIZE)"
   ]
  },
  {
   "cell_type": "markdown",
   "metadata": {},
   "source": [
    "We'll continue with initializing the encoder/decoder model and the training framework components:"
   ]
  },
  {
   "cell_type": "code",
   "execution_count": 11,
   "metadata": {},
   "outputs": [],
   "source": [
    "enc = EncoderRNN(dataset.input_lang.n_words, HIDDEN_SIZE).to(device)\n",
    "dec = AttnDecoderRNN(HIDDEN_SIZE, dataset.output_lang.n_words, dropout=0.1).to(device)\n",
    "\n",
    "train_loader = torch.utils.data.DataLoader(dataset,\n",
    "                                           batch_size=1,\n",
    "                                           shuffle=False)\n",
    "\n",
    "encoder_optimizer = torch.optim.Adam(enc.parameters())\n",
    "decoder_optimizer = torch.optim.Adam(dec.parameters())\n",
    "loss_function = torch.nn.NLLLoss()"
   ]
  },
  {
   "cell_type": "markdown",
   "metadata": {},
   "source": [
    "Finally, we'll can run the training:"
   ]
  },
  {
   "cell_type": "code",
   "execution_count": 12,
   "metadata": {},
   "outputs": [
    {
     "name": "stdout",
     "output_type": "stream",
     "text": [
      "Iteration: 1000 2.5%; Loss: 3.2344\n",
      "Iteration: 2000 5.0%; Loss: 2.6458\n",
      "Iteration: 3000 7.5%; Loss: 2.2991\n",
      "Iteration: 4000 10.0%; Loss: 2.1474\n",
      "Iteration: 5000 12.5%; Loss: 2.0301\n",
      "Iteration: 6000 15.0%; Loss: 1.9312\n",
      "Iteration: 7000 17.5%; Loss: 1.8323\n",
      "Iteration: 8000 20.0%; Loss: 1.7041\n",
      "Iteration: 9000 22.5%; Loss: 1.6163\n",
      "Iteration: 10000 25.0%; Loss: 1.6229\n",
      "Iteration: 11000 27.5%; Loss: 1.5275\n",
      "Iteration: 12000 30.0%; Loss: 1.4935\n",
      "Iteration: 13000 32.5%; Loss: 1.4158\n",
      "Iteration: 14000 35.0%; Loss: 1.3289\n",
      "Iteration: 15000 37.5%; Loss: 1.3238\n",
      "Iteration: 16000 40.0%; Loss: 1.3008\n",
      "Iteration: 17000 42.5%; Loss: 1.3011\n",
      "Iteration: 18000 45.0%; Loss: 1.2671\n",
      "Iteration: 19000 47.5%; Loss: 1.2171\n",
      "Iteration: 20000 50.0%; Loss: 1.1584\n",
      "Iteration: 21000 52.5%; Loss: 1.1282\n",
      "Iteration: 22000 55.0%; Loss: 1.0746\n",
      "Iteration: 23000 57.5%; Loss: 1.0888\n",
      "Iteration: 24000 60.0%; Loss: 1.0930\n",
      "Iteration: 25000 62.5%; Loss: 1.1087\n",
      "Iteration: 26000 65.0%; Loss: 1.0284\n",
      "Iteration: 27000 67.5%; Loss: 1.0434\n",
      "Iteration: 28000 70.0%; Loss: 1.0601\n",
      "Iteration: 29000 72.5%; Loss: 0.9805\n",
      "Iteration: 30000 75.0%; Loss: 0.9516\n",
      "Iteration: 31000 77.5%; Loss: 0.9791\n",
      "Iteration: 32000 80.0%; Loss: 0.9477\n",
      "Iteration: 33000 82.5%; Loss: 0.9331\n",
      "Iteration: 34000 85.0%; Loss: 0.8922\n",
      "Iteration: 35000 87.5%; Loss: 0.9079\n",
      "Iteration: 36000 90.0%; Loss: 0.8848\n",
      "Iteration: 37000 92.5%; Loss: 0.8791\n",
      "Iteration: 38000 95.0%; Loss: 0.8695\n",
      "Iteration: 39000 97.5%; Loss: 0.8856\n",
      "Iteration: 40000 100.0%; Loss: 0.8629\n"
     ]
    }
   ],
   "source": [
    "train(enc, dec, loss_function, encoder_optimizer, decoder_optimizer, train_loader)"
   ]
  },
  {
   "cell_type": "markdown",
   "metadata": {},
   "source": [
    "Let's see how the model translates some randomly selected sentences:"
   ]
  },
  {
   "cell_type": "code",
   "execution_count": 13,
   "metadata": {},
   "outputs": [
    {
     "name": "stdout",
     "output_type": "stream",
     "text": [
      "INPUT: vous etes merveilleuse .; TARGET: you re wonderful .; RESULT: you re wonderful .\n",
      "INPUT: c est un bon mari pour moi .; TARGET: he is a good husband to me .; RESULT: he is a good husband to me .\n",
      "INPUT: c est un tres gentil garcon .; TARGET: he s a very nice boy .; RESULT: he s a very nice boy .\n",
      "INPUT: je suis tout a fait pour .; TARGET: i m all for that .; RESULT: i m all used to it .\n",
      "INPUT: je suis deshydratee .; TARGET: i m dehydrated .; RESULT: i m dehydrated .\n",
      "INPUT: je ne suis pas particulierement impressionnee .; TARGET: i m not particularly impressed .; RESULT: i m not impressed .\n",
      "INPUT: il est tres flexible .; TARGET: he s very flexible .; RESULT: he s very flexible .\n",
      "INPUT: desole .; TARGET: i m sorry .; RESULT: i m sorry .\n",
      "INPUT: c est un de mes voisins .; TARGET: he is one of my neighbors .; RESULT: he s a afraid of my neighbors .\n",
      "INPUT: il a huit ans .; TARGET: he s eight years old .; RESULT: he is eight years old .\n"
     ]
    }
   ],
   "source": [
    "evaluate_randomly(enc, dec)"
   ]
  },
  {
   "cell_type": "markdown",
   "metadata": {},
   "source": [
    "Next, let's visualize the decoder attention over the elements of the input sequence:"
   ]
  },
  {
   "cell_type": "code",
   "execution_count": 14,
   "metadata": {},
   "outputs": [
    {
     "data": {
      "text/plain": [
       "<matplotlib.image.AxesImage at 0x7fb03c9f0438>"
      ]
     },
     "execution_count": 14,
     "metadata": {},
     "output_type": "execute_result"
    },
    {
     "data": {
      "image/png": "[encoded data removed]",
      "text/plain": [
       "<Figure size 480x288 with 1 Axes>"
      ]
     },
     "metadata": {
      "needs_background": "light"
     },
     "output_type": "display_data"
    }
   ],
   "source": [
    "output_words, attentions = evaluate(\n",
    "    enc, dec, dataset.sentence_to_sequence(\"je suis trop froid .\").to(device))\n",
    "plt.matshow(attentions.numpy())"
   ]
  },
  {
   "cell_type": "markdown",
   "metadata": {},
   "source": [
    "Let's see the translation and attention scores with a few more samples:"
   ]
  },
  {
   "cell_type": "code",
   "execution_count": 15,
   "metadata": {},
   "outputs": [
    {
     "name": "stdout",
     "output_type": "stream",
     "text": [
      "INPUT: elle a cinq ans de moins que moi .; OUTPUT: she is five years younger than me .\n"
     ]
    },
    {
     "data": {
      "image/png": "[encoded data removed]",
      "text/plain": [
       "<Figure size 432x288 with 2 Axes>"
      ]
     },
     "metadata": {
      "needs_background": "light"
     },
     "output_type": "display_data"
    },
    {
     "name": "stdout",
     "output_type": "stream",
     "text": [
      "INPUT: elle est trop petit .; OUTPUT: she is too short .\n"
     ]
    },
    {
     "data": {
      "image/png": "[encoded data removed]",
      "text/plain": [
       "<Figure size 432x288 with 2 Axes>"
      ]
     },
     "metadata": {
      "needs_background": "light"
     },
     "output_type": "display_data"
    },
    {
     "name": "stdout",
     "output_type": "stream",
     "text": [
      "INPUT: je ne crains pas de mourir .; OUTPUT: i m not to die .\n"
     ]
    },
    {
     "data": {
      "image/png": "[encoded data removed]",
      "text/plain": [
       "<Figure size 432x288 with 2 Axes>"
      ]
     },
     "metadata": {
      "needs_background": "light"
     },
     "output_type": "display_data"
    },
    {
     "name": "stdout",
     "output_type": "stream",
     "text": [
      "INPUT: c est un jeune directeur plein de talent .; OUTPUT: he s a young person .\n"
     ]
    },
    {
     "data": {
      "image/png": "[encoded data removed]",
      "text/plain": [
       "<Figure size 432x288 with 2 Axes>"
      ]
     },
     "metadata": {
      "needs_background": "light"
     },
     "output_type": "display_data"
    }
   ],
   "source": [
    "evaluate_and_plot_attention(\"elle a cinq ans de moins que moi .\", enc, dec)\n",
    "\n",
    "evaluate_and_plot_attention(\"elle est trop petit .\", enc, dec)\n",
    "\n",
    "evaluate_and_plot_attention(\"je ne crains pas de mourir .\", enc, dec)\n",
    "\n",
    "evaluate_and_plot_attention(\"c est un jeune directeur plein de talent .\", enc, dec)"
   ]
  },
  {
   "cell_type": "code",
   "execution_count": null,
   "metadata": {},
   "outputs": [],
   "source": []
  }
 ],
 "metadata": {
  "kernelspec": {
   "display_name": "Python 3",
   "language": "python",
   "name": "python3"
  },
  "language_info": {
   "codemirror_mode": {
    "name": "ipython",
    "version": 3
   },
   "file_extension": ".py",
   "mimetype": "text/x-python",
   "name": "python",
   "nbconvert_exporter": "python",
   "pygments_lexer": "ipython3",
   "version": "3.7.3"
  }
 },
 "nbformat": 4,
 "nbformat_minor": 2
}
