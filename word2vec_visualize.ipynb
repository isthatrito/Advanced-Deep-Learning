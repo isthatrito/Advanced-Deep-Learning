{
 "cells": [
  {
   "cell_type": "markdown",
   "metadata": {},
   "source": [
    "# Visualizing the word2vec embeddings\n",
    "\n",
    "In this example, we'll train a word2vec model using Gensim and then, we'll visualize the embedding vectors using the `sklearn` implementation of [t-SNE](https://lvdmaaten.github.io/tsne/). t-SNE is a dimensionality reduction technique, which will help us visualize the multi-dimensional embedding vectors over a 2D Plot."
   ]
  },
  {
   "cell_type": "markdown",
   "metadata": {},
   "source": [
    "Let's start with the imports:"
   ]
  },
  {
   "cell_type": "code",
   "execution_count": 1,
   "metadata": {},
   "outputs": [],
   "source": [
    "import logging\n",
    "import pprint  # beautify prints\n",
    "\n",
    "import gensim.downloader as gensim_downloader\n",
    "import matplotlib.pyplot as plt\n",
    "import numpy as np\n",
    "from gensim.models.word2vec import Word2Vec\n",
    "from sklearn.manifold import TSNE\n",
    "\n",
    "logging.basicConfig(level=logging.INFO)"
   ]
  },
  {
   "cell_type": "markdown",
   "metadata": {},
   "source": [
    "Next, let's instantiate and train Gensim's word2vec model using the `text8` dataset. `text8` is embedded in Gensim and contains the tokenized version of the first 100mB of Wikipedia:"
   ]
  },
  {
   "cell_type": "code",
   "execution_count": 2,
   "metadata": {},
   "outputs": [
    {
     "name": "stderr",
     "output_type": "stream",
     "text": [
      "INFO:gensim.models.word2vec:collecting all words and their counts\n",
      "INFO:gensim.models.word2vec:PROGRESS: at sentence #0, processed 0 words, keeping 0 word types\n",
      "INFO:gensim.models.word2vec:collected 253854 word types from a corpus of 17005207 raw words and 1701 sentences\n",
      "INFO:gensim.models.word2vec:Loading a fresh vocabulary\n",
      "INFO:gensim.models.word2vec:effective_min_count=5 retains 71290 unique words (28% of original 253854, drops 182564)\n",
      "INFO:gensim.models.word2vec:effective_min_count=5 leaves 16718844 word corpus (98% of original 17005207, drops 286363)\n",
      "INFO:gensim.models.word2vec:deleting the raw counts dictionary of 253854 items\n",
      "INFO:gensim.models.word2vec:sample=0.001 downsamples 38 most-common words\n",
      "INFO:gensim.models.word2vec:downsampling leaves estimated 12506280 word corpus (74.8% of prior 16718844)\n",
      "INFO:gensim.models.base_any2vec:estimated required memory for 71290 words and 100 dimensions: 92677000 bytes\n",
      "INFO:gensim.models.word2vec:resetting layer weights\n",
      "INFO:gensim.models.base_any2vec:training model with 3 workers on 71290 vocabulary and 100 features, using sg=0 hs=0 sample=0.001 negative=5 window=5\n",
      "INFO:gensim.models.base_any2vec:EPOCH 1 - PROGRESS: at 6.06% examples, 743125 words/s, in_qsize 4, out_qsize 1\n",
      "INFO:gensim.models.base_any2vec:EPOCH 1 - PROGRESS: at 12.05% examples, 738071 words/s, in_qsize 6, out_qsize 0\n",
      "INFO:gensim.models.base_any2vec:EPOCH 1 - PROGRESS: at 17.93% examples, 730943 words/s, in_qsize 4, out_qsize 2\n",
      "INFO:gensim.models.base_any2vec:EPOCH 1 - PROGRESS: at 23.63% examples, 726763 words/s, in_qsize 5, out_qsize 0\n",
      "INFO:gensim.models.base_any2vec:EPOCH 1 - PROGRESS: at 29.04% examples, 716662 words/s, in_qsize 5, out_qsize 1\n",
      "INFO:gensim.models.base_any2vec:EPOCH 1 - PROGRESS: at 34.80% examples, 718042 words/s, in_qsize 4, out_qsize 2\n",
      "INFO:gensim.models.base_any2vec:EPOCH 1 - PROGRESS: at 40.80% examples, 721219 words/s, in_qsize 4, out_qsize 1\n",
      "INFO:gensim.models.base_any2vec:EPOCH 1 - PROGRESS: at 46.80% examples, 724947 words/s, in_qsize 5, out_qsize 0\n",
      "INFO:gensim.models.base_any2vec:EPOCH 1 - PROGRESS: at 52.79% examples, 726500 words/s, in_qsize 5, out_qsize 0\n",
      "INFO:gensim.models.base_any2vec:EPOCH 1 - PROGRESS: at 58.50% examples, 725482 words/s, in_qsize 5, out_qsize 0\n",
      "INFO:gensim.models.base_any2vec:EPOCH 1 - PROGRESS: at 64.26% examples, 724976 words/s, in_qsize 3, out_qsize 2\n",
      "INFO:gensim.models.base_any2vec:EPOCH 1 - PROGRESS: at 70.02% examples, 724286 words/s, in_qsize 5, out_qsize 0\n",
      "INFO:gensim.models.base_any2vec:EPOCH 1 - PROGRESS: at 76.13% examples, 726792 words/s, in_qsize 5, out_qsize 0\n",
      "INFO:gensim.models.base_any2vec:EPOCH 1 - PROGRESS: at 81.78% examples, 723110 words/s, in_qsize 3, out_qsize 2\n",
      "INFO:gensim.models.base_any2vec:EPOCH 1 - PROGRESS: at 87.77% examples, 724232 words/s, in_qsize 4, out_qsize 2\n",
      "INFO:gensim.models.base_any2vec:EPOCH 1 - PROGRESS: at 93.59% examples, 723940 words/s, in_qsize 3, out_qsize 2\n",
      "INFO:gensim.models.base_any2vec:EPOCH 1 - PROGRESS: at 99.29% examples, 722664 words/s, in_qsize 4, out_qsize 1\n",
      "INFO:gensim.models.base_any2vec:worker thread finished; awaiting finish of 2 more threads\n",
      "INFO:gensim.models.base_any2vec:worker thread finished; awaiting finish of 1 more threads\n",
      "INFO:gensim.models.base_any2vec:worker thread finished; awaiting finish of 0 more threads\n",
      "INFO:gensim.models.base_any2vec:EPOCH - 1 : training on 17005207 raw words (12505564 effective words) took 17.3s, 723435 effective words/s\n",
      "INFO:gensim.models.base_any2vec:EPOCH 2 - PROGRESS: at 5.47% examples, 679041 words/s, in_qsize 5, out_qsize 0\n",
      "INFO:gensim.models.base_any2vec:EPOCH 2 - PROGRESS: at 11.46% examples, 708245 words/s, in_qsize 5, out_qsize 0\n",
      "INFO:gensim.models.base_any2vec:EPOCH 2 - PROGRESS: at 17.75% examples, 731124 words/s, in_qsize 4, out_qsize 1\n",
      "INFO:gensim.models.base_any2vec:EPOCH 2 - PROGRESS: at 23.99% examples, 741275 words/s, in_qsize 5, out_qsize 0\n",
      "INFO:gensim.models.base_any2vec:EPOCH 2 - PROGRESS: at 30.04% examples, 743897 words/s, in_qsize 4, out_qsize 2\n",
      "INFO:gensim.models.base_any2vec:EPOCH 2 - PROGRESS: at 35.39% examples, 729843 words/s, in_qsize 3, out_qsize 2\n",
      "INFO:gensim.models.base_any2vec:EPOCH 2 - PROGRESS: at 41.03% examples, 726453 words/s, in_qsize 4, out_qsize 0\n",
      "INFO:gensim.models.base_any2vec:EPOCH 2 - PROGRESS: at 46.91% examples, 726466 words/s, in_qsize 5, out_qsize 1\n",
      "INFO:gensim.models.base_any2vec:EPOCH 2 - PROGRESS: at 52.85% examples, 727976 words/s, in_qsize 6, out_qsize 0\n",
      "INFO:gensim.models.base_any2vec:EPOCH 2 - PROGRESS: at 58.91% examples, 730417 words/s, in_qsize 5, out_qsize 0\n",
      "INFO:gensim.models.base_any2vec:EPOCH 2 - PROGRESS: at 64.84% examples, 731374 words/s, in_qsize 5, out_qsize 0\n",
      "INFO:gensim.models.base_any2vec:EPOCH 2 - PROGRESS: at 70.55% examples, 728180 words/s, in_qsize 4, out_qsize 2\n",
      "INFO:gensim.models.base_any2vec:EPOCH 2 - PROGRESS: at 76.37% examples, 727324 words/s, in_qsize 5, out_qsize 0\n",
      "INFO:gensim.models.base_any2vec:EPOCH 2 - PROGRESS: at 82.25% examples, 726980 words/s, in_qsize 4, out_qsize 0\n",
      "INFO:gensim.models.base_any2vec:EPOCH 2 - PROGRESS: at 88.18% examples, 727937 words/s, in_qsize 5, out_qsize 0\n",
      "INFO:gensim.models.base_any2vec:EPOCH 2 - PROGRESS: at 94.42% examples, 730257 words/s, in_qsize 4, out_qsize 1\n",
      "INFO:gensim.models.base_any2vec:worker thread finished; awaiting finish of 2 more threads\n",
      "INFO:gensim.models.base_any2vec:worker thread finished; awaiting finish of 1 more threads\n",
      "INFO:gensim.models.base_any2vec:worker thread finished; awaiting finish of 0 more threads\n",
      "INFO:gensim.models.base_any2vec:EPOCH - 2 : training on 17005207 raw words (12507617 effective words) took 17.1s, 729648 effective words/s\n",
      "INFO:gensim.models.base_any2vec:EPOCH 3 - PROGRESS: at 5.94% examples, 734309 words/s, in_qsize 3, out_qsize 0\n",
      "INFO:gensim.models.base_any2vec:EPOCH 3 - PROGRESS: at 11.99% examples, 738153 words/s, in_qsize 3, out_qsize 2\n",
      "INFO:gensim.models.base_any2vec:EPOCH 3 - PROGRESS: at 17.99% examples, 741764 words/s, in_qsize 4, out_qsize 1\n",
      "INFO:gensim.models.base_any2vec:EPOCH 3 - PROGRESS: at 23.69% examples, 735361 words/s, in_qsize 4, out_qsize 1\n",
      "INFO:gensim.models.base_any2vec:EPOCH 3 - PROGRESS: at 29.69% examples, 739833 words/s, in_qsize 4, out_qsize 2\n",
      "INFO:gensim.models.base_any2vec:EPOCH 3 - PROGRESS: at 35.57% examples, 739825 words/s, in_qsize 2, out_qsize 0\n",
      "INFO:gensim.models.base_any2vec:EPOCH 3 - PROGRESS: at 41.39% examples, 738348 words/s, in_qsize 5, out_qsize 0\n",
      "INFO:gensim.models.base_any2vec:EPOCH 3 - PROGRESS: at 47.21% examples, 736982 words/s, in_qsize 5, out_qsize 0\n",
      "INFO:gensim.models.base_any2vec:EPOCH 3 - PROGRESS: at 53.26% examples, 739294 words/s, in_qsize 5, out_qsize 0\n",
      "INFO:gensim.models.base_any2vec:EPOCH 3 - PROGRESS: at 58.61% examples, 732432 words/s, in_qsize 5, out_qsize 1\n",
      "INFO:gensim.models.base_any2vec:EPOCH 3 - PROGRESS: at 64.73% examples, 735561 words/s, in_qsize 5, out_qsize 0\n",
      "INFO:gensim.models.base_any2vec:EPOCH 3 - PROGRESS: at 70.66% examples, 736336 words/s, in_qsize 5, out_qsize 0\n",
      "INFO:gensim.models.base_any2vec:EPOCH 3 - PROGRESS: at 76.25% examples, 732533 words/s, in_qsize 6, out_qsize 0\n",
      "INFO:gensim.models.base_any2vec:EPOCH 3 - PROGRESS: at 81.95% examples, 729855 words/s, in_qsize 4, out_qsize 1\n",
      "INFO:gensim.models.base_any2vec:EPOCH 3 - PROGRESS: at 87.65% examples, 728613 words/s, in_qsize 3, out_qsize 0\n",
      "INFO:gensim.models.base_any2vec:EPOCH 3 - PROGRESS: at 93.53% examples, 728802 words/s, in_qsize 4, out_qsize 1\n",
      "INFO:gensim.models.base_any2vec:EPOCH 3 - PROGRESS: at 99.12% examples, 726366 words/s, in_qsize 3, out_qsize 2\n",
      "INFO:gensim.models.base_any2vec:worker thread finished; awaiting finish of 2 more threads\n",
      "INFO:gensim.models.base_any2vec:worker thread finished; awaiting finish of 1 more threads\n",
      "INFO:gensim.models.base_any2vec:worker thread finished; awaiting finish of 0 more threads\n",
      "INFO:gensim.models.base_any2vec:EPOCH - 3 : training on 17005207 raw words (12506956 effective words) took 17.2s, 727716 effective words/s\n",
      "INFO:gensim.models.base_any2vec:EPOCH 4 - PROGRESS: at 6.06% examples, 746760 words/s, in_qsize 4, out_qsize 1\n",
      "INFO:gensim.models.base_any2vec:EPOCH 4 - PROGRESS: at 11.93% examples, 737785 words/s, in_qsize 3, out_qsize 2\n",
      "INFO:gensim.models.base_any2vec:EPOCH 4 - PROGRESS: at 17.64% examples, 729064 words/s, in_qsize 4, out_qsize 1\n"
     ]
    },
    {
     "name": "stderr",
     "output_type": "stream",
     "text": [
      "INFO:gensim.models.base_any2vec:EPOCH 4 - PROGRESS: at 23.57% examples, 733233 words/s, in_qsize 6, out_qsize 0\n",
      "INFO:gensim.models.base_any2vec:EPOCH 4 - PROGRESS: at 29.45% examples, 734405 words/s, in_qsize 5, out_qsize 0\n",
      "INFO:gensim.models.base_any2vec:EPOCH 4 - PROGRESS: at 35.27% examples, 734472 words/s, in_qsize 5, out_qsize 0\n",
      "INFO:gensim.models.base_any2vec:EPOCH 4 - PROGRESS: at 41.15% examples, 734749 words/s, in_qsize 4, out_qsize 0\n",
      "INFO:gensim.models.base_any2vec:EPOCH 4 - PROGRESS: at 46.62% examples, 727076 words/s, in_qsize 6, out_qsize 0\n",
      "INFO:gensim.models.base_any2vec:EPOCH 4 - PROGRESS: at 52.26% examples, 724129 words/s, in_qsize 5, out_qsize 0\n",
      "INFO:gensim.models.base_any2vec:EPOCH 4 - PROGRESS: at 57.85% examples, 721456 words/s, in_qsize 4, out_qsize 0\n",
      "INFO:gensim.models.base_any2vec:EPOCH 4 - PROGRESS: at 63.43% examples, 719112 words/s, in_qsize 5, out_qsize 0\n",
      "INFO:gensim.models.base_any2vec:EPOCH 4 - PROGRESS: at 69.02% examples, 716350 words/s, in_qsize 4, out_qsize 1\n",
      "INFO:gensim.models.base_any2vec:EPOCH 4 - PROGRESS: at 74.90% examples, 717783 words/s, in_qsize 5, out_qsize 0\n",
      "INFO:gensim.models.base_any2vec:EPOCH 4 - PROGRESS: at 80.72% examples, 716780 words/s, in_qsize 5, out_qsize 0\n",
      "INFO:gensim.models.base_any2vec:EPOCH 4 - PROGRESS: at 86.13% examples, 713723 words/s, in_qsize 4, out_qsize 1\n",
      "INFO:gensim.models.base_any2vec:EPOCH 4 - PROGRESS: at 92.12% examples, 715768 words/s, in_qsize 4, out_qsize 0\n",
      "INFO:gensim.models.base_any2vec:EPOCH 4 - PROGRESS: at 97.94% examples, 715799 words/s, in_qsize 4, out_qsize 1\n",
      "INFO:gensim.models.base_any2vec:worker thread finished; awaiting finish of 2 more threads\n",
      "INFO:gensim.models.base_any2vec:worker thread finished; awaiting finish of 1 more threads\n",
      "INFO:gensim.models.base_any2vec:worker thread finished; awaiting finish of 0 more threads\n",
      "INFO:gensim.models.base_any2vec:EPOCH - 4 : training on 17005207 raw words (12505485 effective words) took 17.4s, 716802 effective words/s\n",
      "INFO:gensim.models.base_any2vec:EPOCH 5 - PROGRESS: at 5.53% examples, 686469 words/s, in_qsize 5, out_qsize 0\n",
      "INFO:gensim.models.base_any2vec:EPOCH 5 - PROGRESS: at 11.58% examples, 713697 words/s, in_qsize 4, out_qsize 0\n",
      "INFO:gensim.models.base_any2vec:EPOCH 5 - PROGRESS: at 17.52% examples, 721684 words/s, in_qsize 4, out_qsize 0\n",
      "INFO:gensim.models.base_any2vec:EPOCH 5 - PROGRESS: at 23.40% examples, 722041 words/s, in_qsize 4, out_qsize 2\n",
      "INFO:gensim.models.base_any2vec:EPOCH 5 - PROGRESS: at 29.45% examples, 729484 words/s, in_qsize 5, out_qsize 0\n",
      "INFO:gensim.models.base_any2vec:EPOCH 5 - PROGRESS: at 35.39% examples, 729402 words/s, in_qsize 4, out_qsize 1\n",
      "INFO:gensim.models.base_any2vec:EPOCH 5 - PROGRESS: at 41.03% examples, 725698 words/s, in_qsize 6, out_qsize 0\n",
      "INFO:gensim.models.base_any2vec:EPOCH 5 - PROGRESS: at 46.80% examples, 725010 words/s, in_qsize 5, out_qsize 0\n",
      "INFO:gensim.models.base_any2vec:EPOCH 5 - PROGRESS: at 52.50% examples, 721861 words/s, in_qsize 4, out_qsize 1\n",
      "INFO:gensim.models.base_any2vec:EPOCH 5 - PROGRESS: at 58.50% examples, 724836 words/s, in_qsize 4, out_qsize 1\n",
      "INFO:gensim.models.base_any2vec:EPOCH 5 - PROGRESS: at 64.20% examples, 723842 words/s, in_qsize 4, out_qsize 0\n",
      "INFO:gensim.models.base_any2vec:EPOCH 5 - PROGRESS: at 70.08% examples, 724553 words/s, in_qsize 5, out_qsize 0\n",
      "INFO:gensim.models.base_any2vec:EPOCH 5 - PROGRESS: at 76.25% examples, 726258 words/s, in_qsize 4, out_qsize 1\n",
      "INFO:gensim.models.base_any2vec:EPOCH 5 - PROGRESS: at 82.13% examples, 724922 words/s, in_qsize 4, out_qsize 2\n",
      "INFO:gensim.models.base_any2vec:EPOCH 5 - PROGRESS: at 88.12% examples, 725571 words/s, in_qsize 5, out_qsize 0\n",
      "INFO:gensim.models.base_any2vec:EPOCH 5 - PROGRESS: at 93.77% examples, 723416 words/s, in_qsize 5, out_qsize 0\n",
      "INFO:gensim.models.base_any2vec:EPOCH 5 - PROGRESS: at 99.35% examples, 721606 words/s, in_qsize 5, out_qsize 0\n",
      "INFO:gensim.models.base_any2vec:worker thread finished; awaiting finish of 2 more threads\n",
      "INFO:gensim.models.base_any2vec:worker thread finished; awaiting finish of 1 more threads\n",
      "INFO:gensim.models.base_any2vec:worker thread finished; awaiting finish of 0 more threads\n",
      "INFO:gensim.models.base_any2vec:EPOCH - 5 : training on 17005207 raw words (12506300 effective words) took 17.3s, 722285 effective words/s\n",
      "INFO:gensim.models.base_any2vec:training on a 85026035 raw words (62531922 effective words) took 86.4s, 723741 effective words/s\n"
     ]
    }
   ],
   "source": [
    "model = Word2Vec(\n",
    "    sentences=gensim_downloader.load('text8'),  # download and load the text8 dataset\n",
    "    sg=0, size=100, window=5, negative=5, min_count=5, iter=5)"
   ]
  },
  {
   "cell_type": "markdown",
   "metadata": {},
   "source": [
    "Let's see the results of the training by showing the most similar words to the combination of `woman` and `king`:"
   ]
  },
  {
   "cell_type": "code",
   "execution_count": 3,
   "metadata": {},
   "outputs": [
    {
     "name": "stderr",
     "output_type": "stream",
     "text": [
      "INFO:gensim.models.keyedvectors:precomputing L2-norms of word weight vectors\n"
     ]
    },
    {
     "name": "stdout",
     "output_type": "stream",
     "text": [
      "[('queen', 0.6840947866439819),\n",
      " ('elizabeth', 0.6495713591575623),\n",
      " ('empress', 0.636602520942688),\n",
      " ('prince', 0.6254769563674927),\n",
      " ('princess', 0.6251226663589478),\n",
      " ('emperor', 0.6248080730438232),\n",
      " ('throne', 0.6207752227783203),\n",
      " ('isabella', 0.5928826332092285),\n",
      " ('son', 0.5875461101531982),\n",
      " ('regent', 0.5874534845352173)]\n"
     ]
    }
   ],
   "source": [
    "pprint.pprint(model.wv.most_similar(positive=['woman', 'king'], negative=['man']))"
   ]
  },
  {
   "cell_type": "markdown",
   "metadata": {},
   "source": [
    "We can see that the model has been trained properly, because the most similar words are quite relevant to the input query."
   ]
  },
  {
   "cell_type": "markdown",
   "metadata": {},
   "source": [
    "Next, we'll continue with the t-SNE visualization. To do this, we'll collect the words (and vectors), most similar to the set of seed words below. Each seed word will serve as the core of a `embedding_groups` of it's most similar words:"
   ]
  },
  {
   "cell_type": "code",
   "execution_count": 4,
   "metadata": {},
   "outputs": [],
   "source": [
    "target_words = ['mother', 'car', 'tree', 'science', 'building', 'elephant', 'green']\n",
    "word_groups, embedding_groups = list(), list()\n",
    "\n",
    "for word in target_words:\n",
    "    words = [w for w, _ in model.wv.most_similar(word, topn=5)]\n",
    "    word_groups.append(words)\n",
    "\n",
    "    embedding_groups.append([model.wv[w] for w in words])"
   ]
  },
  {
   "cell_type": "markdown",
   "metadata": {},
   "source": [
    "Next, we'll use the `embedding_groups` to train the t-SNE model for 5000 iterations:"
   ]
  },
  {
   "cell_type": "code",
   "execution_count": 5,
   "metadata": {},
   "outputs": [],
   "source": [
    "embedding_groups = np.array(embedding_groups)\n",
    "m, n, vector_size = embedding_groups.shape\n",
    "tsne_model_en_2d = TSNE(perplexity=8, n_components=2, init='pca', n_iter=5000)"
   ]
  },
  {
   "cell_type": "markdown",
   "metadata": {},
   "source": [
    "Next, we'll use the model to generate embeddings reduced to only 2 dimensions:"
   ]
  },
  {
   "cell_type": "code",
   "execution_count": 6,
   "metadata": {},
   "outputs": [],
   "source": [
    "embeddings_2d = tsne_model_en_2d.fit_transform(embedding_groups.reshape(m * n, vector_size))\n",
    "embeddings_2d = np.array(embeddings_2d).reshape(m, n, 2)"
   ]
  },
  {
   "cell_type": "markdown",
   "metadata": {},
   "source": [
    "Finally, we'll visualize the generated embeddings:"
   ]
  },
  {
   "cell_type": "code",
   "execution_count": 7,
   "metadata": {},
   "outputs": [
    {
     "data": {
      "image/png": "[encoded data removed]",
      "text/plain": [
       "<Figure size 1152x648 with 1 Axes>"
      ]
     },
     "metadata": {
      "needs_background": "light"
     },
     "output_type": "display_data"
    }
   ],
   "source": [
    "# Plot the results\n",
    "plt.figure(figsize=(16, 9))\n",
    "# Different color and marker for each group of similar words\n",
    "color_map = plt.get_cmap('Dark2')(np.linspace(0, 1, len(target_words)))\n",
    "markers = ['o', 'v', 's', 'x', 'D', '*', '+']\n",
    "\n",
    "# Iterate over all groups\n",
    "for label, similar_words, emb, color, marker in \\\n",
    "        zip(target_words, word_groups, embeddings_2d, color_map, markers):\n",
    "    x, y = emb[:, 0], emb[:, 1]\n",
    "\n",
    "    # Plot the points of each word group\n",
    "    plt.scatter(x=x, y=y, c=[color], label=label, marker=marker)\n",
    "\n",
    "    # Annotate each vector with it's corresponding word\n",
    "    for word, w_x, w_y in zip(similar_words, x, y):\n",
    "        plt.annotate(word, xy=(w_x, w_y), xytext=(0, 15),\n",
    "                     textcoords='offset points', ha='center', va='top', size=10)\n",
    "plt.legend()\n",
    "plt.grid(True)\n",
    "plt.show()"
   ]
  },
  {
   "cell_type": "raw",
   "metadata": {},
   "source": [
    "We can see how the words of each embedding group are clustered in the same area of the plot. This once again proves that the word embedding vectors reflect the true meaning of the words. "
   ]
  }
 ],
 "metadata": {
  "kernelspec": {
   "display_name": "Python 3",
   "language": "python",
   "name": "python3"
  },
  "language_info": {
   "codemirror_mode": {
    "name": "ipython",
    "version": 3
   },
   "file_extension": ".py",
   "mimetype": "text/x-python",
   "name": "python",
   "nbconvert_exporter": "python",
   "pygments_lexer": "ipython3",
   "version": "3.7.3"
  }
 },
 "nbformat": 4,
 "nbformat_minor": 2
}
