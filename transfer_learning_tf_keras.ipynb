{
 "cells": [
  {
   "cell_type": "markdown",
   "metadata": {},
   "source": [
    "# Transfer learning with TensorFlow/Keras 2.0 \n",
    "\n",
    "In this example we'll implement fine-tuning and feature extracting transfer learning using the CIFAR-10 dataset. \n",
    "\n",
    "_This example is partially based on_ [https://github.com/tensorflow/docs/blob/master/site/en/tutorials/images/transfer_learning.ipynb]\n",
    "(https://github.com/tensorflow/docs/blob/master/site/en/tutorials/images/transfer_learning.ipynb)<br/>\n",
    "_The licensing information and the author of the base version are:<br/>\n",
    "License: Apache License, Version 2.0<br/>\n",
    "Copyright 2018 The TensorFlow Authors. All rights reserved.<br/>\n",
    "License: MIT<br/>\n",
    "Copyright 2017 François Chollet. All rights reserved.<br/>\n",
    "Copyright 2019 Ivan Vasilev.<br/>_"
   ]
  },
  {
   "cell_type": "markdown",
   "metadata": {},
   "source": [
    "Let's start with the imports:"
   ]
  },
  {
   "cell_type": "code",
   "execution_count": 1,
   "metadata": {},
   "outputs": [],
   "source": [
    "import matplotlib.pyplot as plt\n",
    "import tensorflow as tf\n",
    "import tensorflow_datasets as tfds"
   ]
  },
  {
   "cell_type": "markdown",
   "metadata": {},
   "source": [
    "We'll define the input image and batch size as constants:"
   ]
  },
  {
   "cell_type": "code",
   "execution_count": 2,
   "metadata": {},
   "outputs": [],
   "source": [
    "IMG_SIZE = 224\n",
    "BATCH_SIZE = 50"
   ]
  },
  {
   "cell_type": "markdown",
   "metadata": {},
   "source": [
    "We'll continue by loading the CIFAR-10 dataset using the `tensorflow_datasets` package:"
   ]
  },
  {
   "cell_type": "code",
   "execution_count": 3,
   "metadata": {},
   "outputs": [],
   "source": [
    "data, metadata = tfds.load('cifar10', with_info=True, as_supervised=True)\n",
    "\n",
    "raw_train, raw_test = data['train'].repeat(), data['test'].repeat()"
   ]
  },
  {
   "cell_type": "markdown",
   "metadata": {},
   "source": [
    "Next, we'll define the input transformations (per sample) for the training and validation phases:"
   ]
  },
  {
   "cell_type": "code",
   "execution_count": 4,
   "metadata": {},
   "outputs": [],
   "source": [
    "def train_format_sample(image, label):\n",
    "    \"\"\"Transform data for training\"\"\"\n",
    "    image = tf.cast(image, tf.float32)\n",
    "    image = tf.image.resize(image, (IMG_SIZE, IMG_SIZE))\n",
    "    image = (image / 127.5) - 1\n",
    "    image = tf.image.random_flip_left_right(image)\n",
    "    image = tf.image.random_flip_up_down(image)\n",
    "\n",
    "    label = tf.one_hot(label, metadata.features['label'].num_classes)\n",
    "\n",
    "    return image, label\n",
    "\n",
    "\n",
    "def test_format_sample(image, label):\n",
    "    \"\"\"Transform data for testing\"\"\"\n",
    "    image = tf.cast(image, tf.float32)\n",
    "    image = tf.image.resize(image, (IMG_SIZE, IMG_SIZE))\n",
    "    image = (image / 127.5) - 1\n",
    "\n",
    "    label = tf.one_hot(label, metadata.features['label'].num_classes)\n",
    "\n",
    "    return image, label"
   ]
  },
  {
   "cell_type": "markdown",
   "metadata": {},
   "source": [
    "Then, we'll define the training and validation data providers:"
   ]
  },
  {
   "cell_type": "code",
   "execution_count": 5,
   "metadata": {},
   "outputs": [],
   "source": [
    "# assign transformers to raw data\n",
    "train_data = raw_train.map(train_format_sample)\n",
    "test_data = raw_test.map(test_format_sample)\n",
    "\n",
    "# extract batches from the training set\n",
    "train_batches = train_data.shuffle(1000).batch(BATCH_SIZE)\n",
    "test_batches = test_data.batch(BATCH_SIZE)"
   ]
  },
  {
   "cell_type": "markdown",
   "metadata": {},
   "source": [
    "Next, we'll define 2 functions that build transfer learning models for either feature extacting, or fine-tuning. Both models use the `tf.keras.applications.ResNet50V2` ImageNet pretrained model. We'll start with feature extracting, which \"locks\" all model parameters (weights) except for the final fully-connected layer:"
   ]
  },
  {
   "cell_type": "code",
   "execution_count": 6,
   "metadata": {},
   "outputs": [],
   "source": [
    "def build_fe_model():\n",
    "    \"\"\"\"Create feature extraction model from the pre-trained model ResNet50V2\"\"\"\n",
    "\n",
    "    # create the pre-trained part of the network, excluding FC layers\n",
    "    base_model = tf.keras.applications.ResNet50V2(input_shape=(IMG_SIZE, IMG_SIZE, 3),\n",
    "                                                  include_top=False,\n",
    "                                                  weights='imagenet')\n",
    "\n",
    "    # exclude all model layers from training\n",
    "    base_model.trainable = False\n",
    "\n",
    "    # create new model as a combination of the pre-trained net\n",
    "    # and one fully connected layer at the top\n",
    "    return tf.keras.Sequential([\n",
    "        base_model,\n",
    "        tf.keras.layers.GlobalAveragePooling2D(),\n",
    "        tf.keras.layers.Dense(\n",
    "            metadata.features['label'].num_classes,\n",
    "            activation='softmax')\n",
    "    ])"
   ]
  },
  {
   "cell_type": "markdown",
   "metadata": {},
   "source": [
    "We'll continue with the fine-tuning model, which locks the first `fine_tune_at` layers, but trains all other model parameters:"
   ]
  },
  {
   "cell_type": "code",
   "execution_count": 7,
   "metadata": {},
   "outputs": [],
   "source": [
    "def build_ft_model():\n",
    "    \"\"\"\"Create fine tuning model from the pre-trained model ResNet50V2\"\"\"\n",
    "\n",
    "    # create the pre-trained part of the network, excluding FC layers\n",
    "    base_model = tf.keras.applications.ResNet50V2(input_shape=(IMG_SIZE, IMG_SIZE, 3),\n",
    "                                                  include_top=False,\n",
    "                                                  weights='imagenet')\n",
    "\n",
    "    # Fine tune from this layer onwards\n",
    "    fine_tune_at = 100\n",
    "\n",
    "    # Freeze all the layers before the `fine_tune_at` layer\n",
    "    for layer in base_model.layers[:fine_tune_at]:\n",
    "        layer.trainable = False\n",
    "\n",
    "    # create new model as a combination of the pre-trained net\n",
    "    # and one fully connected layer at the top\n",
    "    return tf.keras.Sequential([\n",
    "        base_model,\n",
    "        tf.keras.layers.GlobalAveragePooling2D(),\n",
    "        tf.keras.layers.Dense(\n",
    "            metadata.features['label'].num_classes,\n",
    "            activation='softmax')\n",
    "    ])"
   ]
  },
  {
   "cell_type": "markdown",
   "metadata": {},
   "source": [
    "Let's define the `train_model` function, which builds takes the pre-built model, fits it over the training data, and plots the training and validation results. The function is shared for both feature extraction and fine-tuning:"
   ]
  },
  {
   "cell_type": "code",
   "execution_count": 8,
   "metadata": {},
   "outputs": [],
   "source": [
    "def train_model(model, epochs=5):\n",
    "    \"\"\"Train the model. This function is shared for both FE and FT modes\"\"\"\n",
    "\n",
    "    # configure the model for training\n",
    "    model.compile(optimizer=tf.keras.optimizers.Adam(lr=0.0001),\n",
    "                  loss='categorical_crossentropy',\n",
    "                  metrics=['accuracy'])\n",
    "\n",
    "    # train the model\n",
    "    history = model.fit(train_batches,\n",
    "                        epochs=epochs,\n",
    "                        steps_per_epoch=metadata.splits['train'].num_examples // BATCH_SIZE,\n",
    "                        validation_data=test_batches,\n",
    "                        validation_steps=metadata.splits['test'].num_examples // BATCH_SIZE,\n",
    "                        workers=4)\n",
    "\n",
    "    # plot accuracy\n",
    "    test_acc = history.history['val_accuracy']\n",
    "\n",
    "    plt.figure()\n",
    "    plt.plot(test_acc)\n",
    "    plt.xticks(\n",
    "        [i for i in range(0, len(test_acc))],\n",
    "        [i + 1 for i in range(0, len(test_acc))])\n",
    "    plt.ylabel('Accuracy')\n",
    "    plt.xlabel('Epoch')\n",
    "    plt.show()"
   ]
  },
  {
   "cell_type": "markdown",
   "metadata": {},
   "source": [
    "We can now run the training procedure. Let's start by building the feature extraction model:"
   ]
  },
  {
   "cell_type": "code",
   "execution_count": 9,
   "metadata": {},
   "outputs": [
    {
     "name": "stdout",
     "output_type": "stream",
     "text": [
      "Model: \"sequential\"\n",
      "_________________________________________________________________\n",
      "Layer (type)                 Output Shape              Param #   \n",
      "=================================================================\n",
      "resnet50v2 (Model)           (None, 7, 7, 2048)        23564800  \n",
      "_________________________________________________________________\n",
      "global_average_pooling2d (Gl (None, 2048)              0         \n",
      "_________________________________________________________________\n",
      "dense (Dense)                (None, 10)                20490     \n",
      "=================================================================\n",
      "Total params: 23,585,290\n",
      "Trainable params: 20,490\n",
      "Non-trainable params: 23,564,800\n",
      "_________________________________________________________________\n"
     ]
    }
   ],
   "source": [
    "model = build_fe_model()\n",
    "model.summary()"
   ]
  },
  {
   "cell_type": "markdown",
   "metadata": {},
   "source": [
    "Next, let's run the training:"
   ]
  },
  {
   "cell_type": "code",
   "execution_count": 10,
   "metadata": {},
   "outputs": [
    {
     "name": "stdout",
     "output_type": "stream",
     "text": [
      "Train for 1000 steps, validate for 200 steps\n",
      "Epoch 1/5\n",
      "1000/1000 [==============================] - 226s 226ms/step - loss: 1.3464 - accuracy: 0.5466 - val_loss: 0.8496 - val_accuracy: 0.7100\n",
      "Epoch 2/5\n",
      "1000/1000 [==============================] - 215s 215ms/step - loss: 0.9247 - accuracy: 0.6885 - val_loss: 0.7822 - val_accuracy: 0.7464\n",
      "Epoch 3/5\n",
      "1000/1000 [==============================] - 224s 224ms/step - loss: 0.8354 - accuracy: 0.7167 - val_loss: 0.7722 - val_accuracy: 0.7605\n",
      "Epoch 4/5\n",
      "1000/1000 [==============================] - 226s 226ms/step - loss: 0.7826 - accuracy: 0.7349 - val_loss: 0.7767 - val_accuracy: 0.7680\n",
      "Epoch 5/5\n",
      "1000/1000 [==============================] - 222s 222ms/step - loss: 0.7582 - accuracy: 0.7392 - val_loss: 0.7683 - val_accuracy: 0.7751\n"
     ]
    },
    {
     "data": {
      "image/png": "[encoded data removed]",
      "text/plain": [
       "<Figure size 432x288 with 1 Axes>"
      ]
     },
     "metadata": {
      "needs_background": "light"
     },
     "output_type": "display_data"
    }
   ],
   "source": [
    "train_model(model)"
   ]
  },
  {
   "cell_type": "markdown",
   "metadata": {},
   "source": [
    "We can also try the fine-tuning model for comparison:"
   ]
  },
  {
   "cell_type": "code",
   "execution_count": 11,
   "metadata": {},
   "outputs": [
    {
     "name": "stdout",
     "output_type": "stream",
     "text": [
      "Model: \"sequential_1\"\n",
      "_________________________________________________________________\n",
      "Layer (type)                 Output Shape              Param #   \n",
      "=================================================================\n",
      "resnet50v2 (Model)           (None, 7, 7, 2048)        23564800  \n",
      "_________________________________________________________________\n",
      "global_average_pooling2d_1 ( (None, 2048)              0         \n",
      "_________________________________________________________________\n",
      "dense_1 (Dense)              (None, 10)                20490     \n",
      "=================================================================\n",
      "Total params: 23,585,290\n",
      "Trainable params: 20,580,362\n",
      "Non-trainable params: 3,004,928\n",
      "_________________________________________________________________\n",
      "Train for 1000 steps, validate for 200 steps\n",
      "Epoch 1/5\n",
      "1000/1000 [==============================] - 302s 302ms/step - loss: 0.4756 - accuracy: 0.8367 - val_loss: 0.4555 - val_accuracy: 0.8452\n",
      "Epoch 2/5\n",
      "1000/1000 [==============================] - 295s 295ms/step - loss: 0.2451 - accuracy: 0.9170 - val_loss: 0.4341 - val_accuracy: 0.8588\n",
      "Epoch 3/5\n",
      "1000/1000 [==============================] - 294s 294ms/step - loss: 0.1790 - accuracy: 0.9399 - val_loss: 0.3699 - val_accuracy: 0.8748\n",
      "Epoch 4/5\n",
      "1000/1000 [==============================] - 296s 296ms/step - loss: 0.1474 - accuracy: 0.9502 - val_loss: 0.3978 - val_accuracy: 0.8757\n",
      "Epoch 5/5\n",
      "1000/1000 [==============================] - 294s 294ms/step - loss: 0.1242 - accuracy: 0.9584 - val_loss: 0.3802 - val_accuracy: 0.8821\n"
     ]
    },
    {
     "data": {
      "image/png": "[encoded data removed]",
      "text/plain": [
       "<Figure size 432x288 with 1 Axes>"
      ]
     },
     "metadata": {
      "needs_background": "light"
     },
     "output_type": "display_data"
    }
   ],
   "source": [
    "model = build_ft_model()\n",
    "model.summary()\n",
    "train_model(model)"
   ]
  },
  {
   "cell_type": "markdown",
   "metadata": {},
   "source": [
    "Fine-tuning achieves better accuracy, compared to the feature-engineering model. The most likely reason is that the feature-engineering model is constrained to update only the weights of the last hidden layer."
   ]
  }
 ],
 "metadata": {
  "kernelspec": {
   "display_name": "Python 3",
   "language": "python",
   "name": "python3"
  },
  "language_info": {
   "codemirror_mode": {
    "name": "ipython",
    "version": 3
   },
   "file_extension": ".py",
   "mimetype": "text/x-python",
   "name": "python",
   "nbconvert_exporter": "python",
   "pygments_lexer": "ipython3",
   "version": "3.7.3"
  }
 },
 "nbformat": 4,
 "nbformat_minor": 2
}
