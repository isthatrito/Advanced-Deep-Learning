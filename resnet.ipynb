{
 "cells": [
  {
   "cell_type": "markdown",
   "metadata": {},
   "source": [
    "# Residual networks with PyTorch\n",
    "\n",
    "In this example, we'll implement the various types of residual blocks using PyTorch. We'll train the network on the CIFAR-10 dataset."
   ]
  },
  {
   "cell_type": "markdown",
   "metadata": {},
   "source": [
    "Let's start with the imports:"
   ]
  },
  {
   "cell_type": "code",
   "execution_count": 1,
   "metadata": {},
   "outputs": [],
   "source": [
    "import matplotlib.pyplot as plt\n",
    "import torch\n",
    "import torch.nn as nn\n",
    "import torch.nn.functional as F\n",
    "import torch.optim as optim\n",
    "import torchvision\n",
    "from torchvision import transforms"
   ]
  },
  {
   "cell_type": "markdown",
   "metadata": {},
   "source": [
    "We'll continue by implementing the pre-activation non-bottleneck residual block, which is a subclass of `torch.nn.Module`:"
   ]
  },
  {
   "cell_type": "code",
   "execution_count": 2,
   "metadata": {},
   "outputs": [],
   "source": [
    "class PreActivationBlock(nn.Module):\n",
    "    \"\"\"Pre-activation residual block.\"\"\"\n",
    "\n",
    "    expansion = 1\n",
    "\n",
    "    def __init__(self, in_slices, slices, stride=1):\n",
    "        super(PreActivationBlock, self).__init__()\n",
    "\n",
    "        self.bn_1 = nn.BatchNorm2d(in_slices)\n",
    "        self.conv_1 = nn.Conv2d(in_channels=in_slices, out_channels=slices,\n",
    "                                kernel_size=3, stride=stride, padding=1,\n",
    "                                bias=False)\n",
    "\n",
    "        self.bn_2 = nn.BatchNorm2d(slices)\n",
    "        self.conv_2 = nn.Conv2d(in_channels=slices, out_channels=slices,\n",
    "                                kernel_size=3, stride=1, padding=1,\n",
    "                                bias=False)\n",
    "\n",
    "        # if the input/output dimensions differ use convolution for the shortcut\n",
    "        if stride != 1 or in_slices != self.expansion * slices:\n",
    "            self.shortcut = nn.Sequential(\n",
    "                nn.Conv2d(in_channels=in_slices,\n",
    "                          out_channels=self.expansion * slices,\n",
    "                          kernel_size=1,\n",
    "                          stride=stride,\n",
    "                          bias=False)\n",
    "            )\n",
    "\n",
    "    def forward(self, x):\n",
    "        out = F.relu(self.bn_1(x))\n",
    "\n",
    "        #  reuse bn+relu in down-sampling layers\n",
    "        shortcut = self.shortcut(out) if hasattr(self, 'shortcut') else x\n",
    "\n",
    "        out = self.conv_1(out)\n",
    "\n",
    "        out = F.relu(self.bn_2(out))\n",
    "        out = self.conv_2(out)\n",
    "\n",
    "        out += shortcut\n",
    "\n",
    "        return out"
   ]
  },
  {
   "cell_type": "markdown",
   "metadata": {},
   "source": [
    "We'll continue with the implementation of the pre-activation bottleneck residual block:"
   ]
  },
  {
   "cell_type": "code",
   "execution_count": 3,
   "metadata": {},
   "outputs": [],
   "source": [
    "class PreActivationBottleneckBlock(nn.Module):\n",
    "    \"\"\"Pre-activation bottleneck residual block.\"\"\"\n",
    "\n",
    "    expansion = 4\n",
    "\n",
    "    def __init__(self, in_slices, slices, stride=1):\n",
    "        super(PreActivationBottleneckBlock, self).__init__()\n",
    "\n",
    "        self.bn_1 = nn.BatchNorm2d(in_slices)\n",
    "        self.conv_1 = nn.Conv2d(in_channels=in_slices, out_channels=slices,\n",
    "                                kernel_size=1,\n",
    "                                bias=False)\n",
    "\n",
    "        self.bn_2 = nn.BatchNorm2d(slices)\n",
    "        self.conv_2 = nn.Conv2d(in_channels=slices, out_channels=slices,\n",
    "                                kernel_size=3, stride=stride, padding=1,\n",
    "                                bias=False)\n",
    "\n",
    "        self.bn_3 = nn.BatchNorm2d(slices)\n",
    "        self.conv_3 = nn.Conv2d(in_channels=slices,\n",
    "                                out_channels=self.expansion * slices,\n",
    "                                kernel_size=1,\n",
    "                                bias=False)\n",
    "\n",
    "        # if the input/output dimensions differ use convolution for the shortcut\n",
    "        if stride != 1 or in_slices != self.expansion * slices:\n",
    "            self.shortcut = nn.Sequential(\n",
    "                nn.Conv2d(in_channels=in_slices,\n",
    "                          out_channels=self.expansion * slices,\n",
    "                          kernel_size=1, stride=stride,\n",
    "                          bias=False)\n",
    "            )\n",
    "\n",
    "    def forward(self, x):\n",
    "        out = F.relu(self.bn_1(x))\n",
    "\n",
    "        #  reuse bn+relu in down-sampling layers\n",
    "        shortcut = self.shortcut(out) if hasattr(self, 'shortcut') else x\n",
    "\n",
    "        out = self.conv_1(out)\n",
    "\n",
    "        out = F.relu(self.bn_2(out))\n",
    "        out = self.conv_2(out)\n",
    "\n",
    "        out = F.relu(self.bn_3(out))\n",
    "        out = self.conv_3(out)\n",
    "\n",
    "        out += shortcut\n",
    "\n",
    "        return out"
   ]
  },
  {
   "cell_type": "markdown",
   "metadata": {},
   "source": [
    "Next, we'll implement a configurable ResNet class, which works with both types of pre-activation blocks. The network takes as input the type of pre-activation block, the number of residual groups, the number of residual blocks in each group, and the number of output classes (10 in the case of CIFAR-10). The class builds the network according to these parameters:"
   ]
  },
  {
   "cell_type": "code",
   "execution_count": 4,
   "metadata": {},
   "outputs": [],
   "source": [
    "class PreActivationResNet(nn.Module):\n",
    "    \"\"\"Pre-activation residual network\"\"\"\n",
    "\n",
    "    def __init__(self, block, num_blocks, num_classes=10):\n",
    "        \"\"\"\n",
    "        :param block: type of residual block (regular or bottleneck)\n",
    "        :param num_blocks: a list with 4 integer values.\n",
    "            Each value reflects the number of residual blocks in the group\n",
    "        :param num_classes: number of output classes\n",
    "        \"\"\"\n",
    "\n",
    "        super(PreActivationResNet, self).__init__()\n",
    "\n",
    "        self.in_slices = 64\n",
    "\n",
    "        self.conv_1 = nn.Conv2d(in_channels=3, out_channels=64,\n",
    "                                kernel_size=3, stride=1, padding=1,\n",
    "                                bias=False)\n",
    "\n",
    "        self.layer_1 = self._make_group(block, 64, num_blocks[0], stride=1)\n",
    "        self.layer_2 = self._make_group(block, 128, num_blocks[1], stride=2)\n",
    "        self.layer_3 = self._make_group(block, 256, num_blocks[2], stride=2)\n",
    "        self.layer_4 = self._make_group(block, 512, num_blocks[3], stride=2)\n",
    "        self.linear = nn.Linear(512 * block.expansion, num_classes)\n",
    "\n",
    "    def _make_group(self, block, slices, num_blocks, stride):\n",
    "        \"\"\"Create one residual group\"\"\"\n",
    "\n",
    "        strides = [stride] + [1] * (num_blocks - 1)\n",
    "        layers = []\n",
    "        for stride in strides:\n",
    "            layers.append(block(self.in_slices, slices, stride))\n",
    "            self.in_slices = slices * block.expansion\n",
    "\n",
    "        return nn.Sequential(*layers)\n",
    "\n",
    "    def forward(self, x):\n",
    "        out = self.conv_1(x)\n",
    "        out = self.layer_1(out)\n",
    "        out = self.layer_2(out)\n",
    "        out = self.layer_3(out)\n",
    "        out = self.layer_4(out)\n",
    "        out = F.avg_pool2d(out, 4)\n",
    "        out = out.view(out.size(0), -1)\n",
    "        out = self.linear(out)\n",
    "\n",
    "        return out"
   ]
  },
  {
   "cell_type": "markdown",
   "metadata": {},
   "source": [
    "Next, we'll define several `PreActivationResNet` configurations, which match the configuration of the original ResNet papers:"
   ]
  },
  {
   "cell_type": "code",
   "execution_count": 5,
   "metadata": {},
   "outputs": [],
   "source": [
    "def PreActivationResNet18():\n",
    "    return PreActivationResNet(block=PreActivationBlock,\n",
    "                               num_blocks=[2, 2, 2, 2])\n",
    "\n",
    "\n",
    "def PreActivationResNet34():\n",
    "    return PreActivationResNet(block=PreActivationBlock,\n",
    "                               num_blocks=[3, 4, 6, 3])\n",
    "\n",
    "\n",
    "def PreActivationResNet50():\n",
    "    return PreActivationResNet(block=PreActivationBottleneckBlock,\n",
    "                               num_blocks=[3, 4, 6, 3])\n",
    "\n",
    "\n",
    "def PreActivationResNet101():\n",
    "    return PreActivationResNet(block=PreActivationBottleneckBlock,\n",
    "                               num_blocks=[3, 4, 23, 3])\n",
    "\n",
    "\n",
    "def PreActivationResNet152():\n",
    "    return PreActivationResNet(block=PreActivationBottleneckBlock,\n",
    "                               num_blocks=[3, 8, 36, 3])\n"
   ]
  },
  {
   "cell_type": "markdown",
   "metadata": {},
   "source": [
    "We'll continue with the implementation of the model training routine, which is generic and is not specifically related to the `PreActivationResNet`:"
   ]
  },
  {
   "cell_type": "code",
   "execution_count": 8,
   "metadata": {},
   "outputs": [],
   "source": [
    "def train_model(model, loss_function, optimizer, data_loader):\n",
    "    \"\"\"Train one epoch\"\"\"\n",
    "\n",
    "    # set model to training mode\n",
    "    model.train()\n",
    "\n",
    "    current_loss = 0.0\n",
    "    current_acc = 0\n",
    "\n",
    "    # iterate over the training data\n",
    "    for i, (inputs, labels) in enumerate(data_loader):\n",
    "        # send the input/labels to the GPU\n",
    "        inputs = inputs.to(device)\n",
    "        labels = labels.to(device)\n",
    "\n",
    "        # zero the parameter gradients\n",
    "        optimizer.zero_grad()\n",
    "\n",
    "        with torch.set_grad_enabled(True):\n",
    "            # forward\n",
    "            outputs = model(inputs)\n",
    "            _, predictions = torch.max(outputs, 1)\n",
    "            loss = loss_function(outputs, labels)\n",
    "\n",
    "            # backward\n",
    "            loss.backward()\n",
    "            optimizer.step()\n",
    "\n",
    "        # statistics\n",
    "        current_loss += loss.item() * inputs.size(0)\n",
    "        current_acc += torch.sum(predictions == labels.data)\n",
    "\n",
    "    total_loss = current_loss / len(data_loader.dataset)\n",
    "    total_acc = current_acc.double() / len(data_loader.dataset)\n",
    "\n",
    "    print('Train Loss: {:.4f}; Accuracy: {:.4f}'.format(total_loss, total_acc))"
   ]
  },
  {
   "cell_type": "markdown",
   "metadata": {},
   "source": [
    "Then, we'll implement the validation routine:"
   ]
  },
  {
   "cell_type": "code",
   "execution_count": 9,
   "metadata": {},
   "outputs": [],
   "source": [
    "def test_model(model, loss_function, data_loader):\n",
    "    \"\"\"Test for a single epoch\"\"\"\n",
    "\n",
    "    # set model in evaluation mode\n",
    "    model.eval()\n",
    "\n",
    "    current_loss = 0.0\n",
    "    current_acc = 0\n",
    "\n",
    "    # iterate over  the validation data\n",
    "    for i, (inputs, labels) in enumerate(data_loader):\n",
    "        # send the input/labels to the GPU\n",
    "        inputs = inputs.to(device)\n",
    "        labels = labels.to(device)\n",
    "\n",
    "        # forward\n",
    "        with torch.set_grad_enabled(False):\n",
    "            outputs = model(inputs)\n",
    "            _, predictions = torch.max(outputs, 1)\n",
    "            loss = loss_function(outputs, labels)\n",
    "\n",
    "        # statistics\n",
    "        current_loss += loss.item() * inputs.size(0)\n",
    "        current_acc += torch.sum(predictions == labels.data)\n",
    "\n",
    "    total_loss = current_loss / len(data_loader.dataset)\n",
    "    total_acc = current_acc.double() / len(data_loader.dataset)\n",
    "\n",
    "    print('Test Loss: {:.4f}; Accuracy: {:.4f}'.format(total_loss, total_acc))\n",
    "\n",
    "    return total_loss, total_acc"
   ]
  },
  {
   "cell_type": "markdown",
   "metadata": {},
   "source": [
    "We'll continue with the `plot_accuracy` function (the name speaks for itself):"
   ]
  },
  {
   "cell_type": "code",
   "execution_count": 10,
   "metadata": {},
   "outputs": [],
   "source": [
    "def plot_accuracy(accuracy: list):\n",
    "    \"\"\"Plot accuracy\"\"\"\n",
    "    plt.figure()\n",
    "    plt.plot(accuracy)\n",
    "    plt.xticks(\n",
    "        [i for i in range(0, len(accuracy))],\n",
    "        [i + 1 for i in range(0, len(accuracy))])\n",
    "    plt.ylabel('Accuracy')\n",
    "    plt.xlabel('Epoch')\n",
    "    plt.show()"
   ]
  },
  {
   "cell_type": "markdown",
   "metadata": {},
   "source": [
    "We now have all the ingredients to build, train, and validate the model. Let's start by instantiating the training dataset transformations (`transform_train`) and `train_loader`:"
   ]
  },
  {
   "cell_type": "code",
   "execution_count": 11,
   "metadata": {},
   "outputs": [
    {
     "name": "stdout",
     "output_type": "stream",
     "text": [
      "Files already downloaded and verified\n"
     ]
    }
   ],
   "source": [
    "# training data transformation\n",
    "transform_train = transforms.Compose([\n",
    "    transforms.RandomCrop(32, padding=4),\n",
    "    transforms.RandomHorizontalFlip(),\n",
    "    transforms.ToTensor(),\n",
    "    transforms.Normalize((0.4914, 0.4821, 0.4465), (0.2470, 0.2435, 0.2616))\n",
    "])\n",
    "\n",
    "# training data loader\n",
    "train_set = torchvision.datasets.CIFAR10(root='./data',\n",
    "                                         train=True,\n",
    "                                         download=True,\n",
    "                                         transform=transform_train)\n",
    "\n",
    "train_loader = torch.utils.data.DataLoader(dataset=train_set,\n",
    "                                           batch_size=100,\n",
    "                                           shuffle=True,\n",
    "                                           num_workers=2)"
   ]
  },
  {
   "cell_type": "markdown",
   "metadata": {},
   "source": [
    "Let's do the same for the validation dataset:"
   ]
  },
  {
   "cell_type": "code",
   "execution_count": 12,
   "metadata": {},
   "outputs": [
    {
     "name": "stdout",
     "output_type": "stream",
     "text": [
      "Files already downloaded and verified\n"
     ]
    }
   ],
   "source": [
    "# test data transformation\n",
    "transform_test = transforms.Compose([\n",
    "    transforms.ToTensor(),\n",
    "    transforms.Normalize((0.4914, 0.4821, 0.4465), (0.2470, 0.2435, 0.2616))\n",
    "])\n",
    "\n",
    "# test data loader\n",
    "testset = torchvision.datasets.CIFAR10(root='./data',\n",
    "                                       train=False,\n",
    "                                       download=True,\n",
    "                                       transform=transform_test)\n",
    "\n",
    "test_loader = torch.utils.data.DataLoader(dataset=testset,\n",
    "                                          batch_size=100,\n",
    "                                          shuffle=False,\n",
    "                                          num_workers=2)"
   ]
  },
  {
   "cell_type": "markdown",
   "metadata": {},
   "source": [
    "We'll continue by instantiating the `device`, `model`, `loss_function`, and the `optimizer`:"
   ]
  },
  {
   "cell_type": "code",
   "execution_count": 13,
   "metadata": {},
   "outputs": [],
   "source": [
    "# load the model\n",
    "model = PreActivationResNet34()\n",
    "\n",
    "# select gpu 0, if available\n",
    "# otherwise fallback to cpu\n",
    "device = torch.device(\"cuda:0\" if torch.cuda.is_available() else \"cpu\")\n",
    "\n",
    "# transfer the model to the GPU\n",
    "model = model.to(device)\n",
    "\n",
    "# loss function\n",
    "loss_function = nn.CrossEntropyLoss()\n",
    "\n",
    "# We'll optimize all parameters\n",
    "optimizer = optim.Adam(model.parameters())"
   ]
  },
  {
   "cell_type": "markdown",
   "metadata": {},
   "source": [
    "Finally, we'll run the training for 15 epochs and we'll plot the accuracy at the end:"
   ]
  },
  {
   "cell_type": "code",
   "execution_count": 15,
   "metadata": {},
   "outputs": [
    {
     "name": "stdout",
     "output_type": "stream",
     "text": [
      "Epoch 1/15\n",
      "Train Loss: 1.5397; Accuracy: 0.4284\n",
      "Test Loss: 1.3968; Accuracy: 0.4944\n",
      "Epoch 2/15\n",
      "Train Loss: 1.2436; Accuracy: 0.5450\n",
      "Test Loss: 1.1301; Accuracy: 0.6010\n",
      "Epoch 3/15\n",
      "Train Loss: 1.0482; Accuracy: 0.6239\n",
      "Test Loss: 0.9587; Accuracy: 0.6745\n",
      "Epoch 4/15\n",
      "Train Loss: 0.8672; Accuracy: 0.6948\n",
      "Test Loss: 0.8985; Accuracy: 0.6996\n",
      "Epoch 5/15\n",
      "Train Loss: 0.7243; Accuracy: 0.7480\n",
      "Test Loss: 0.6420; Accuracy: 0.7819\n",
      "Epoch 6/15\n",
      "Train Loss: 0.6335; Accuracy: 0.7836\n",
      "Test Loss: 0.6720; Accuracy: 0.7736\n",
      "Epoch 7/15\n",
      "Train Loss: 0.5695; Accuracy: 0.8058\n",
      "Test Loss: 0.5958; Accuracy: 0.8042\n",
      "Epoch 8/15\n",
      "Train Loss: 0.5033; Accuracy: 0.8262\n",
      "Test Loss: 0.5246; Accuracy: 0.8223\n",
      "Epoch 9/15\n",
      "Train Loss: 0.4667; Accuracy: 0.8429\n",
      "Test Loss: 0.5277; Accuracy: 0.8344\n",
      "Epoch 10/15\n",
      "Train Loss: 0.4256; Accuracy: 0.8554\n",
      "Test Loss: 0.4896; Accuracy: 0.8371\n",
      "Epoch 11/15\n",
      "Train Loss: 0.3892; Accuracy: 0.8671\n",
      "Test Loss: 0.4600; Accuracy: 0.8609\n",
      "Epoch 12/15\n",
      "Train Loss: 0.3638; Accuracy: 0.8741\n",
      "Test Loss: 0.4029; Accuracy: 0.8686\n",
      "Epoch 13/15\n",
      "Train Loss: 0.3441; Accuracy: 0.8846\n",
      "Test Loss: 0.4014; Accuracy: 0.8701\n",
      "Epoch 14/15\n",
      "Train Loss: 0.3166; Accuracy: 0.8930\n",
      "Test Loss: 0.4746; Accuracy: 0.8446\n",
      "Epoch 15/15\n",
      "Train Loss: 0.3003; Accuracy: 0.8980\n",
      "Test Loss: 0.6309; Accuracy: 0.8365\n"
     ]
    },
    {
     "data": {
      "image/png": "[encoded data removed]",
      "text/plain": [
       "<Figure size 432x288 with 1 Axes>"
      ]
     },
     "metadata": {
      "needs_background": "light"
     },
     "output_type": "display_data"
    }
   ],
   "source": [
    "EPOCHS = 15\n",
    "\n",
    "test_acc = list()  # collect accuracy for plotting\n",
    "for epoch in range(EPOCHS):\n",
    "    print('Epoch {}/{}'.format(epoch + 1, EPOCHS))\n",
    "\n",
    "    train_model(model, loss_function, optimizer, train_loader)\n",
    "    _, acc = test_model(model, loss_function, test_loader)\n",
    "    test_acc.append(acc)\n",
    "\n",
    "plot_accuracy(test_acc)"
   ]
  }
 ],
 "metadata": {
  "kernelspec": {
   "display_name": "Python 3",
   "language": "python",
   "name": "python3"
  },
  "language_info": {
   "codemirror_mode": {
    "name": "ipython",
    "version": 3
   },
   "file_extension": ".py",
   "mimetype": "text/x-python",
   "name": "python",
   "nbconvert_exporter": "python",
   "pygments_lexer": "ipython3",
   "version": "3.7.3"
  }
 },
 "nbformat": 4,
 "nbformat_minor": 2
}
